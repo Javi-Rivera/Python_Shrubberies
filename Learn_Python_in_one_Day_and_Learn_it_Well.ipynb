{
 "cells": [
  {
   "cell_type": "markdown",
   "metadata": {},
   "source": [
    "# Learn Python in One Day and Learn it Well"
   ]
  },
  {
   "cell_type": "markdown",
   "metadata": {},
   "source": [
    "## What is Python?"
   ]
  },
  {
   "cell_type": "markdown",
   "metadata": {},
   "source": [
    "Python was created by Guido Van Rossum in 1980s.  Is a widely used high-level programming language the language makes strong emphasis on code readability and simplicity, for a faster development. \n",
    "\n",
    "Codes written in Python have to use an interpreter which have to be installed before we develope a code, test and execute a program. "
   ]
  },
  {
   "cell_type": "markdown",
   "metadata": {},
   "source": [
    "## Why Learn Python\n"
   ]
  },
  {
   "cell_type": "markdown",
   "metadata": {},
   "source": [
    "High level programming languages are similar one another. What differs is mainly the syntax, the libraries available and the way to access those libraries.\n",
    "\n",
    "A library is a collection of resources and pre-written codes that we can use to write our programs.\n",
    "\n",
    "Python has a key fearures its simplicity, making it the ideal language for beginners to learn because it requires considerably fewer lines of code to perform the same task compared to other languages. leading to fewer errors while programming and reducing the development time. \n",
    "\n",
    "Python can be used for Desktop applications, database applications, network programming, Game Programming and Mobile Programming."
   ]
  },
  {
   "cell_type": "markdown",
   "metadata": {},
   "source": [
    "## Using Python"
   ]
  },
  {
   "cell_type": "markdown",
   "metadata": {},
   "source": [
    "In Python we can write commands as followsand spect results"
   ]
  },
  {
   "cell_type": "code",
   "execution_count": null,
   "metadata": {},
   "outputs": [],
   "source": [
    "2+3"
   ]
  },
  {
   "cell_type": "code",
   "execution_count": null,
   "metadata": {},
   "outputs": [],
   "source": [
    "3>2"
   ]
  },
  {
   "cell_type": "code",
   "execution_count": null,
   "metadata": {},
   "outputs": [],
   "source": [
    "print('Hello World')"
   ]
  },
  {
   "cell_type": "markdown",
   "metadata": {},
   "source": [
    "To create comments while coding we use #"
   ]
  },
  {
   "cell_type": "code",
   "execution_count": null,
   "metadata": {},
   "outputs": [],
   "source": [
    "# This is a comment\n",
    "# This is also a comment\n",
    "# This is yet another comment"
   ]
  },
  {
   "cell_type": "markdown",
   "metadata": {},
   "source": [
    "For multiple comment lines we use ###"
   ]
  },
  {
   "cell_type": "code",
   "execution_count": null,
   "metadata": {},
   "outputs": [],
   "source": [
    "### This is a comment\n",
    "### This is also a comment\n",
    "### This is yet another comment"
   ]
  },
  {
   "cell_type": "markdown",
   "metadata": {},
   "source": [
    "## The World of Variables and Operators"
   ]
  },
  {
   "cell_type": "markdown",
   "metadata": {},
   "source": [
    "### What are Variables?"
   ]
  },
  {
   "cell_type": "markdown",
   "metadata": {},
   "source": [
    "Variables are names given to data that we need to store and manipulate in our programs.\n",
    "Suppose that our program needs to store the age of the user we can do it using the following statement"
   ]
  },
  {
   "cell_type": "raw",
   "metadata": {},
   "source": [
    "userAge = 0"
   ]
  },
  {
   "cell_type": "markdown",
   "metadata": {},
   "source": [
    "## \n",
    "With this statement we defined the variable userAge, permiting the program allocate storage space to store this data.\n",
    "Everytime you declare a new variable, you need to give it an initial value.\n",
    "You can also define multiple variables in once."
   ]
  },
  {
   "cell_type": "code",
   "execution_count": null,
   "metadata": {},
   "outputs": [],
   "source": [
    "userAge, userName = 30, 'Peter'\n",
    "print(\"User Age = \", userAge) \n",
    "print(\"User Name = \", userName) "
   ]
  },
  {
   "cell_type": "markdown",
   "metadata": {},
   "source": [
    "### Naming a Variable"
   ]
  },
  {
   "cell_type": "markdown",
   "metadata": {},
   "source": [
    "### \n",
    "A variable name in python can only contain letters (a - z, A - B), numbers or underscores ( _ ). And the first character cannot be a number.\n",
    "\n",
    "There are also reserved words that cannot be used as variable names because they already have preassinged meanings in Python. \n",
    "\n",
    "The variable names are case sensitive user-name its not the same as userName\n"
   ]
  },
  {
   "cell_type": "markdown",
   "metadata": {},
   "source": [
    "### The Assignment Sign"
   ]
  },
  {
   "cell_type": "markdown",
   "metadata": {},
   "source": [
    "The = sign has a different meaning than the = sign used in math. In programming the = sign is known as an assignment sign.\n",
    "\n",
    "It means that we are assigning the value on the right side of the = signto the variable on the left.\n",
    "\n",
    "Example:"
   ]
  },
  {
   "cell_type": "code",
   "execution_count": null,
   "metadata": {},
   "outputs": [],
   "source": [
    "x = 5\n",
    "y = 10\n",
    "x = y\n",
    "print(\"x = \", x)\n",
    "print(\"y = \", y)"
   ]
  },
  {
   "cell_type": "markdown",
   "metadata": {},
   "source": [
    "When we define the variables x has an initial value of 5 (declared in the first line of the code). But in the 3rd line x = y we are assigning the value of y to x. Changing the value of the variable.\n",
    "\n",
    "If we change the 3rd line of the code from x = y to y = x this is what happens:"
   ]
  },
  {
   "cell_type": "code",
   "execution_count": null,
   "metadata": {},
   "outputs": [],
   "source": [
    "x = 5\n",
    "y = 10\n",
    "y = x\n",
    "print(\"x = \", x)\n",
    "print(\"y = \", y)"
   ]
  },
  {
   "cell_type": "markdown",
   "metadata": {},
   "source": [
    "Mathematically x = y and y = x is the same thing but in programming we assing values.\n",
    "\n",
    "In the example the value of x remains as 5 but the value of y changed to 5."
   ]
  },
  {
   "cell_type": "markdown",
   "metadata": {},
   "source": [
    "### Basic Operators"
   ]
  },
  {
   "cell_type": "markdown",
   "metadata": {},
   "source": [
    "In Python we can perform the usual mathematical operations on variables such as: + (Addition), - (Substraction), * (Multiplication), / (Division), // (Floor Division), % (Modulus) and ** (Exponent)."
   ]
  },
  {
   "cell_type": "code",
   "execution_count": null,
   "metadata": {},
   "outputs": [],
   "source": [
    "# Lets assume:\n",
    "x = 5\n",
    "y = 2"
   ]
  },
  {
   "cell_type": "markdown",
   "metadata": {},
   "source": [
    "#### +Addition"
   ]
  },
  {
   "cell_type": "code",
   "execution_count": null,
   "metadata": {},
   "outputs": [],
   "source": [
    "x + y\n",
    "print(\"x + y =\", x + y)"
   ]
  },
  {
   "cell_type": "markdown",
   "metadata": {},
   "source": [
    "#### - Substraction"
   ]
  },
  {
   "cell_type": "code",
   "execution_count": null,
   "metadata": {},
   "outputs": [],
   "source": [
    "x - y\n",
    "print(\"x - y =\", x - y)"
   ]
  },
  {
   "cell_type": "markdown",
   "metadata": {},
   "source": [
    "#### * Multiplication"
   ]
  },
  {
   "cell_type": "code",
   "execution_count": null,
   "metadata": {},
   "outputs": [],
   "source": [
    "x * y\n",
    "print(\"x * y =\", x * y)"
   ]
  },
  {
   "cell_type": "markdown",
   "metadata": {},
   "source": [
    "#### / Division"
   ]
  },
  {
   "cell_type": "code",
   "execution_count": null,
   "metadata": {},
   "outputs": [],
   "source": [
    "x / y\n",
    "print(\"x / y =\", x / y)"
   ]
  },
  {
   "cell_type": "markdown",
   "metadata": {},
   "source": [
    "#### // Floor Division"
   ]
  },
  {
   "cell_type": "code",
   "execution_count": null,
   "metadata": {},
   "outputs": [],
   "source": [
    "x // y\n",
    "print(\"x // y =\", x // y)"
   ]
  },
  {
   "cell_type": "markdown",
   "metadata": {},
   "source": [
    "Floor Division rounds down the answer to the nearest whole number."
   ]
  },
  {
   "cell_type": "markdown",
   "metadata": {},
   "source": [
    "#### % Modulus"
   ]
  },
  {
   "cell_type": "code",
   "execution_count": null,
   "metadata": {},
   "outputs": [],
   "source": [
    "x % y\n",
    "print(\"x % y =\", x % y)"
   ]
  },
  {
   "cell_type": "markdown",
   "metadata": {},
   "source": [
    "Modulus gives the remainder when 5 is divided by 2"
   ]
  },
  {
   "cell_type": "markdown",
   "metadata": {},
   "source": [
    "#### ** Exponent"
   ]
  },
  {
   "cell_type": "code",
   "execution_count": null,
   "metadata": {},
   "outputs": [],
   "source": [
    "x ** y\n",
    "print(\"x ** y =\", x ** y)"
   ]
  },
  {
   "cell_type": "markdown",
   "metadata": {},
   "source": [
    "5 to the power of 2"
   ]
  },
  {
   "cell_type": "markdown",
   "metadata": {},
   "source": [
    "### More Assignment Operators"
   ]
  },
  {
   "cell_type": "markdown",
   "metadata": {},
   "source": [
    "Besides the = sign, there are the +=, -= and *= operators. "
   ]
  },
  {
   "cell_type": "markdown",
   "metadata": {},
   "source": [
    "## Data Types in Python"
   ]
  },
  {
   "cell_type": "markdown",
   "metadata": {},
   "source": [
    "### Integers"
   ]
  },
  {
   "cell_type": "markdown",
   "metadata": {},
   "source": [
    "Integers are numbers with no decimal parts."
   ]
  },
  {
   "cell_type": "code",
   "execution_count": null,
   "metadata": {},
   "outputs": [],
   "source": [
    "x = 4\n",
    "y = -3\n",
    "userAge = 21\n",
    "print(\"x = \", x)\n",
    "print(\"y = \", y)\n",
    "print(\"User Age =\", userAge)"
   ]
  },
  {
   "cell_type": "markdown",
   "metadata": {},
   "source": [
    "### Float"
   ]
  },
  {
   "cell_type": "markdown",
   "metadata": {},
   "source": [
    "Float refers to numbers that have decimal parts."
   ]
  },
  {
   "cell_type": "code",
   "execution_count": null,
   "metadata": {},
   "outputs": [],
   "source": [
    "x = 2.3\n",
    "y = -5.4\n",
    "userHeight = 1.67\n",
    "userWeight = 67.2\n",
    "print(\"x =\", x)\n",
    "print(\"y =\", y)\n",
    "print(\"User Height =\", userHeight)\n",
    "print(\"User Weight =\", userWeight)"
   ]
  },
  {
   "cell_type": "markdown",
   "metadata": {},
   "source": [
    "### String"
   ]
  },
  {
   "cell_type": "markdown",
   "metadata": {},
   "source": [
    "String refers to text.\n",
    "to declare a string we can use '(simple quotes)' or \"(double quotes)\""
   ]
  },
  {
   "cell_type": "code",
   "execution_count": null,
   "metadata": {},
   "outputs": [],
   "source": [
    "userName = 'Morty'\n",
    "userLastName = \"Smith\"\n",
    "print(\"User Name =\", userName)\n",
    "print(\"User Last Name =\", userLastName)\n",
    "print(\"User Complete Name =\", userName, userLastName)"
   ]
  },
  {
   "cell_type": "markdown",
   "metadata": {},
   "source": [
    "#### Built-in String Functions"
   ]
  },
  {
   "cell_type": "markdown",
   "metadata": {},
   "source": [
    "Python includes a number of built-in functions to manipulate strings.\n",
    "\n",
    "A function is a block of reusable code that performs a certain task."
   ]
  },
  {
   "cell_type": "code",
   "execution_count": null,
   "metadata": {},
   "outputs": [],
   "source": [
    "userName = 'morty'\n",
    "print(\"User Name =\", userName)\n",
    "# We can use the function upper() to capitalize al the letters\n",
    "CapUserName = userName.upper()\n",
    "print(\"User Name =\", CapUserName)"
   ]
  },
  {
   "cell_type": "markdown",
   "metadata": {},
   "source": [
    "#### Formatting Strings using the % operator"
   ]
  },
  {
   "cell_type": "markdown",
   "metadata": {},
   "source": [
    "Strings can also be formated using the % operator giving you control over how you want your string to be displayed and stored. \n",
    "\n",
    "There are three parts to this syntax.\n",
    "\n",
    "\"String to be formatted\" %(values or variables to be inserted into string, separated by commas)\n",
    "\n",
    "1. we write the string to be formatted in quotes\n",
    "2. we write the % simbol\n",
    "3. we have a pair of brackets () within we write the values or variables to be inserted into the string. This values inside is known as tuple."
   ]
  },
  {
   "cell_type": "code",
   "execution_count": 1,
   "metadata": {},
   "outputs": [
    {
     "name": "stdout",
     "output_type": "stream",
     "text": [
      "the price of this apple laptop is 1299 USD and the exchange rate is 1.24 USD to 1 EUR\n"
     ]
    }
   ],
   "source": [
    "brand = 'apple'\n",
    "exchangeRate = 1.235235245\n",
    "message = \"the price of this %s laptop is %d USD and the exchange rate is %4.2f USD to 1 EUR\" %(brand, 1299, exchangeRate)\n",
    "print(message)"
   ]
  },
  {
   "cell_type": "markdown",
   "metadata": {},
   "source": [
    "The %s formatter is used to represent a string\n",
    "\n",
    "The %d formatter represents a integer (if we add a number between the % and d we indicate the lenght of the string)\n",
    "\n",
    "The %f formatter is used to format floats in the example %4.2f (4 refers to the total length and 2 refers to 2 decimal places)"
   ]
  },
  {
   "cell_type": "code",
   "execution_count": null,
   "metadata": {},
   "outputs": [],
   "source": [
    "brand = 'apple'\n",
    "exchangeRate = 1.23599\n",
    "message = \"The price of this %s laptop is %6d USD and the exchange rate is %9.4f USD to 1 EUR\" %(brand, 1299, exchangeRate)\n",
    "print(message)"
   ]
  },
  {
   "cell_type": "markdown",
   "metadata": {},
   "source": [
    "#### Formatting Strings using the format() method"
   ]
  },
  {
   "cell_type": "markdown",
   "metadata": {},
   "source": [
    "In addition to using the % operator to format strings, Python provides the format() method.\n",
    "\n",
    "The syntax is \"string to be formatted\".format(values or variables to be inserted into string, separated by commas)\n",
    "\n",
    "When we use format method we do not use %s, %d, %f as placeholders instead we use curly brackets"
   ]
  },
  {
   "cell_type": "code",
   "execution_count": null,
   "metadata": {},
   "outputs": [],
   "source": [
    "brand = 'apple'\n",
    "exchangeRate = 1.235235245\n",
    "message = \"The price of this {0:s} laptop is {1:d} USD and the exchange rate is {2:4.2f} USD to 1 EUR\" .format(brand, 1299, exchangeRate)\n",
    "print(message)"
   ]
  },
  {
   "cell_type": "markdown",
   "metadata": {},
   "source": [
    "Inside the curly brackets we write the position of the parameter to use followed by a colon, after the colon we write the formatter.\n",
    "when we write format(brand, 1299, exchangeRate) we are passing in three parameters to the format() method. \n",
    "\n",
    "Parameters are data that the method needs in order to perform a task.\n",
    "\n",
    "the parameter brand has a posotion of 0; 1299 has a position of 1 and exchangeRate has a position of 2\n",
    "\n",
    "Positions always start from ZERO.\n",
    "\n",
    "In the example when we write {0:s} We are asking the interpreter to replace {0:s} with the parameter in position 0 and that it is a string (s).\n",
    "\n",
    "When we write {1:d} we refer to the parameter in position 1, which is an integer (d)\n",
    "\n",
    "And when we write {2:4.2f}, we are reffering to the parameter in position 2, that is a float and we want it to be formatted with 2 decimal places and a total lenght of 4 (4.2f).\n"
   ]
  },
  {
   "cell_type": "markdown",
   "metadata": {},
   "source": [
    "#### Type Casting in Python"
   ]
  },
  {
   "cell_type": "markdown",
   "metadata": {},
   "source": [
    "Sometimes is necessary for us to convert from one data tyoe to another such as from an integer to a string. This is known as type casting.\n",
    "\n",
    "There are three built-in functions in python: int(), float() abd str() functions."
   ]
  },
  {
   "cell_type": "markdown",
   "metadata": {},
   "source": [
    "#####  int( )"
   ]
  },
  {
   "cell_type": "code",
   "execution_count": null,
   "metadata": {},
   "outputs": [],
   "source": [
    "# The int() function takes in a float or an appropriate string and converts it to an integer.\n",
    "price = 20.67\n",
    "Age = '50'\n",
    "print(\"Price =\", int(price))\n",
    "print(\"Costumer age =\", int(Age))"
   ]
  },
  {
   "cell_type": "markdown",
   "metadata": {},
   "source": [
    "##### Float( )"
   ]
  },
  {
   "cell_type": "code",
   "execution_count": null,
   "metadata": {},
   "outputs": [],
   "source": [
    "# The float() function takes an integer or an appropriate string and changes it to a float.\n",
    "version = 2\n",
    "rate = '5.452657'\n",
    "print(\"Notebook version =\", float(version))\n",
    "print(\"Site Rate =\", float(rate))"
   ]
  },
  {
   "cell_type": "markdown",
   "metadata": {},
   "source": [
    "##### str( )"
   ]
  },
  {
   "cell_type": "code",
   "execution_count": 61,
   "metadata": {},
   "outputs": [
    {
     "name": "stdout",
     "output_type": "stream",
     "text": [
      "year = 5\n",
      "money exchange rate = 8.4\n"
     ]
    }
   ],
   "source": [
    "# str() function on the other hand converts an integer or a float to a string. \n",
    "x = 5\n",
    "y = 8.4\n",
    "print(\"year =\", str(x))\n",
    "print(\"money exchange rate =\", str(y))"
   ]
  },
  {
   "cell_type": "markdown",
   "metadata": {},
   "source": [
    "### List"
   ]
  },
  {
   "cell_type": "markdown",
   "metadata": {},
   "source": [
    "List refers to a collection of data which are normally related. instead of storing the data as separate variables, we can store them as a list.\n",
    "\n",
    "We use square brackets when declaring a list and the values inside the crackets separated by a comma."
   ]
  },
  {
   "cell_type": "code",
   "execution_count": null,
   "metadata": {},
   "outputs": [],
   "source": [
    "userAge = [21, 22, 23, 24, 25] # The list store the age of 5 users\n",
    "print(userAge)"
   ]
  },
  {
   "cell_type": "code",
   "execution_count": 42,
   "metadata": {},
   "outputs": [
    {
     "name": "stdout",
     "output_type": "stream",
     "text": [
      "[]\n",
      "[25]\n",
      "[25, 34]\n"
     ]
    }
   ],
   "source": [
    "# We can declare a list without assigning any initial values to it.\n",
    "userAge = []\n",
    "print(userAge) # We created an empty list.\n",
    "# We can use the append() method to add items to the list.\n",
    "userAge.append(25) # we add an item to the list\n",
    "print(userAge)\n",
    "userAge.append(34) # we add another item to the list\n",
    "print(userAge)"
   ]
  },
  {
   "cell_type": "code",
   "execution_count": null,
   "metadata": {},
   "outputs": [],
   "source": [
    "userAge = [21, 22, 23, 24, 25] # The list store the age of 5 users.\n",
    "# we can access individual values in the list by their indexes. indexes always star from ZERO\n",
    "print(userAge[0])\n",
    "print(userAge[3])"
   ]
  },
  {
   "cell_type": "code",
   "execution_count": null,
   "metadata": {},
   "outputs": [],
   "source": [
    "userAge = [18, 25, 30, 35, 47, 50] # The list store the age of 6 users.\n",
    "# we can access the values of a list from the back with the index -1 (last value), -2 (second last value) and so forth.\n",
    "print(userAge[-1])\n",
    "print(userAge[-3])\n",
    "print(userAge[-5])"
   ]
  },
  {
   "cell_type": "code",
   "execution_count": null,
   "metadata": {},
   "outputs": [],
   "source": [
    "userAge = [21, 25, 35, 8, 60, 78, 65] # The list store the age of 7 users.\n",
    "# We can assign a list or part of it to a variable\n",
    "userAge2 = userAge # The variable userAge2 becomes [21, 25, 35, 8, 65]\n",
    "print(userAge2)\n",
    "userAge3 = userAge[2:5] # We are assigning items with index 2 to 4-1 from the list userAge\n",
    "print(userAge3)"
   ]
  },
  {
   "cell_type": "markdown",
   "metadata": {},
   "source": [
    "The notation 2:5 is known as a slice. When we use a slice notation in Phyton the item at the start of the index is included, but the item at the end is always excluded. in the example, userAge3 = [35, 8, 60] and not [35, 8, 60, 78] "
   ]
  },
  {
   "cell_type": "code",
   "execution_count": null,
   "metadata": {},
   "outputs": [],
   "source": [
    "# The slice notation includes a third number known as a stepper.\n",
    "userAge = [21, 22, 25, 27, 30, 33, 55, 65, 23]\n",
    "userAge4 = userAge[1:9:2] # we will get a sublist consisting of every second number from index 1 to index 5-1 because the stepper is 2\n",
    "print(userAge4)"
   ]
  },
  {
   "cell_type": "code",
   "execution_count": null,
   "metadata": {},
   "outputs": [],
   "source": [
    "userAge = [21, 22, 23, 24, 25] # The list Store the age of 5 users.\n",
    "print(userAge)\n",
    "# To modify items in a list, we write listName[index of item to be modified] = new value.\n",
    "userAge[2] = 55\n",
    "print(userAge)"
   ]
  },
  {
   "cell_type": "code",
   "execution_count": null,
   "metadata": {},
   "outputs": [],
   "source": [
    "userAge = [21, 22, 23, 24, 25] # The list store the age of 5 users\n",
    "print(userAge)\n",
    "userAge.append(99) # we add the value 99 to the end of the list\n",
    "print(userAge)\n",
    "# to remove items from a list, we write listName[index of the item to be deleted]\n",
    "del userAge[2] # the Third item is deleted\n",
    "print(userAge)"
   ]
  },
  {
   "cell_type": "markdown",
   "metadata": {},
   "source": [
    "#### Exercise"
   ]
  },
  {
   "cell_type": "code",
   "execution_count": null,
   "metadata": {},
   "outputs": [],
   "source": [
    "# Declare a list\n",
    "myList = [2, 5, 6, 7, 10, 13, 15, 19, 23, 27, 30, 'Hello']\n",
    "# Print the entire list\n",
    "print(myList)\n",
    "# Print the 4 item from the list\n",
    "print(myList[4])\n",
    "# Print the last item\n",
    "print(myList[-1])\n",
    "# Assign myList (from index 1 to 5) to myList2 and print myList2\n",
    "myList2 = myList[1:6]\n",
    "print(myList2)\n",
    "# Modidy the first item from myList and print the updated list\n",
    "myList[1] = 'five'\n",
    "print(myList)\n",
    "# Add a new item to myList and print the updated list\n",
    "myList.append(125)\n",
    "print(myList)\n",
    "# Remove the 8th item from mylist and print the updated list\n",
    "del myList[6]\n",
    "print(myList)"
   ]
  },
  {
   "cell_type": "markdown",
   "metadata": {},
   "source": [
    "### Tuple"
   ]
  },
  {
   "cell_type": "markdown",
   "metadata": {},
   "source": [
    "Tuples are just like lists but the values cannot ve modified. The inicial values assingnated will stay the same for the rest of the program.\n",
    "\n",
    "An example were tuples are useful is when your program needs to store the names of the months of the year."
   ]
  },
  {
   "cell_type": "code",
   "execution_count": null,
   "metadata": {},
   "outputs": [],
   "source": [
    "# To declare a tuple we write: tupleName = (initial values) within round brackets and separeted by commas.\n",
    "monthsOfTheYear = (\"Jan\", \"Feb\", \"Mar\", \"Apr\", \"May\", \"Jun\", \"Jul\", \"Aug\", \"Sep\", \"Oct\", \"Nov\", \"Dec\")\n",
    "print(monthsOfTheYear)\n",
    "print(monthsOfTheYear[0])\n",
    "print(monthsOfTheYear[-1])\n",
    "print(monthsOfTheYear[5])"
   ]
  },
  {
   "cell_type": "markdown",
   "metadata": {},
   "source": [
    "### Dictionary"
   ]
  },
  {
   "cell_type": "markdown",
   "metadata": {},
   "source": [
    "A dictionary is  a collection of related data PAIRS. "
   ]
  },
  {
   "cell_type": "code",
   "execution_count": null,
   "metadata": {},
   "outputs": [],
   "source": [
    "# To declare a Dictionary we write dictionaryName = {dictionary key : data} with the requirement that dictionary keys must be unique\n",
    "userNameAndAge = {\"Peter\":38, \"John\":51, \"Alex\":13, \"Alvin\":\"Not Available\"}\n",
    "print(userNameAndAge)\n",
    "# We can delcare a Dictionary using the dict() method. \n",
    "userNameAndAge2 = dict(Jerry = 38, Morty = 10, Summer = 15, Rick = \"Not Available\")\n",
    "print(userNameAndAge2)\n",
    "# To access individual items in the dictionary we use the dictionary key\n",
    "userNameAndAge2[\"Morty\"]\n",
    "print(userNameAndAge2[\"Morty\"])\n",
    "# To modify items in a dictionary \n",
    "userNameAndAge2[\"Jerry\"] = 45\n",
    "print(userNameAndAge2)\n",
    "# We can declare a dictionary without assingning any value\n",
    "userNameAndAge3 = {}\n",
    "print(userNameAndAge3)\n",
    "# to add items to a dictionary we write\n",
    "userNameAndAge3[\"Archer\"] = 30\n",
    "print(userNameAndAge3)\n",
    "# to remove items from a dictionary we write del \n",
    "del userNameAndAge2[\"Jerry\"]\n",
    "print(userNameAndAge2)"
   ]
  },
  {
   "cell_type": "markdown",
   "metadata": {},
   "source": [
    "Exercise"
   ]
  },
  {
   "cell_type": "code",
   "execution_count": null,
   "metadata": {},
   "outputs": [],
   "source": [
    "# Declare a dictionary myDict\n",
    "myDict = {\"One\":1.35, 2.5:\"Two point five\", 3:\"+\", 7.9:2}\n",
    "# print the dictionary\n",
    "print(myDict)\n",
    "# print the item with key one\n",
    "print(myDict[\"One\"])\n",
    "# print the item with key 7.9\n",
    "print(myDict[7.9])\n",
    "#Modify the item with key 2.5 and print the updated dictionary\n",
    "myDict[2.5] = \"Two and a half\"\n",
    "print(myDict)\n",
    "# Add a new item and print the updated dictionary\n",
    "myDict[\"New Item\"] = \"I am new\"\n",
    "print(myDict)\n",
    "# Remove the item with key 3 and print the updated dictionary\n",
    "del myDict[3]\n",
    "print(myDict)"
   ]
  },
  {
   "cell_type": "markdown",
   "metadata": {},
   "source": [
    "## Making your program interactive"
   ]
  },
  {
   "cell_type": "code",
   "execution_count": null,
   "metadata": {},
   "outputs": [],
   "source": [
    "myName = input(\"Please enter your name: \")\n",
    "myAge = input(\"How old are you: \")\n",
    "print(\"Hello World, my name is\", myName, \"and I am\", myAge, \"years old.\")"
   ]
  },
  {
   "cell_type": "markdown",
   "metadata": {},
   "source": [
    "### Imput ( )"
   ]
  },
  {
   "cell_type": "markdown",
   "metadata": {},
   "source": [
    "The input() function helps the user enter information and stores it as a string."
   ]
  },
  {
   "cell_type": "markdown",
   "metadata": {},
   "source": [
    "### Print ( )"
   ]
  },
  {
   "cell_type": "markdown",
   "metadata": {},
   "source": [
    "The print () function is used to display information to users. It accepts zero or more expressions as parameters, separated by commas.\n",
    "\n",
    "When refering to variables we dot not use quotation marks. \n",
    "\n",
    "Another way to print a statement with variables is to use the % formatter or using the format() method."
   ]
  },
  {
   "cell_type": "markdown",
   "metadata": {},
   "source": [
    "## Making Choices and Decisions"
   ]
  },
  {
   "cell_type": "markdown",
   "metadata": {},
   "source": [
    "### Condition Statements"
   ]
  },
  {
   "cell_type": "markdown",
   "metadata": {},
   "source": [
    "The most common condition statement is the comparison statement. If we want to compare whether two variables are the same, we use the == sign."
   ]
  },
  {
   "cell_type": "code",
   "execution_count": null,
   "metadata": {},
   "outputs": [],
   "source": [
    "x = 5\n",
    "y = 2\n",
    "x == y"
   ]
  },
  {
   "cell_type": "code",
   "execution_count": null,
   "metadata": {},
   "outputs": [],
   "source": [
    "x = 3\n",
    "y = 3\n",
    "x == y"
   ]
  },
  {
   "cell_type": "code",
   "execution_count": null,
   "metadata": {},
   "outputs": [],
   "source": [
    "5 != 2 # != (not equals)\n",
    "2 < 5 # < (smaller than)\n",
    "5 > 2 # > (Greater than)\n",
    "5 >= 2 # >= (greater than or equals to)\n",
    "5 >= 5 # >= (greater than or equals to)\n",
    "2 <= 5 # <= (smaller than or equals to)\n",
    "2 <= 2 # <= (samller than or equals to)"
   ]
  },
  {
   "cell_type": "markdown",
   "metadata": {},
   "source": [
    "### Logical Contidions"
   ]
  },
  {
   "cell_type": "markdown",
   "metadata": {},
   "source": [
    "#### And"
   ]
  },
  {
   "cell_type": "code",
   "execution_count": null,
   "metadata": {},
   "outputs": [],
   "source": [
    "# The and operator returns True if all conditions are met. Else it will return False.\n",
    "5 == 5 and 2 > 1"
   ]
  },
  {
   "cell_type": "markdown",
   "metadata": {},
   "source": [
    "#### Or"
   ]
  },
  {
   "cell_type": "code",
   "execution_count": null,
   "metadata": {},
   "outputs": [],
   "source": [
    "# The or operator returns True if at least one contidion is met. Else it will return False.\n",
    "5 > 2 or 7 > 10 or 3 == 2"
   ]
  },
  {
   "cell_type": "markdown",
   "metadata": {},
   "source": [
    "#### Not"
   ]
  },
  {
   "cell_type": "code",
   "execution_count": null,
   "metadata": {},
   "outputs": [],
   "source": [
    "# The not operator returns True if the condition after the not keyword is false. Else it will return False.\n",
    "not 2 > 5 "
   ]
  },
  {
   "cell_type": "markdown",
   "metadata": {},
   "source": [
    "### If Statement"
   ]
  },
  {
   "cell_type": "markdown",
   "metadata": {},
   "source": [
    "The if contidion is one of the most commonly used control flow statements. Allows the program to evaluate if a certain condition is met, and perform the appropiate action based on the result of the evaluation.\n",
    "\n",
    "if condition 1 is met:\n",
    "    do A\n",
    "elif condition 2 is met:\n",
    "    do B\n",
    "elif condition 3 is met:\n",
    "    do C\n",
    "elif condition 4 is met:\n",
    "    do D\n",
    "else:\n",
    "    do E\n",
    "    \n",
    "elif stands for else if."
   ]
  },
  {
   "cell_type": "code",
   "execution_count": null,
   "metadata": {},
   "outputs": [],
   "source": [
    "userInput = input(\"Enter 1 or 2: \")\n",
    "if userInput == \"1\":\n",
    "    print(\"Hello World\")\n",
    "    print(\"How are you?\")\n",
    "elif userInput == \"2\":\n",
    "    print(\"Python Rocks!\")\n",
    "    print(\"I Love Python\")\n",
    "else:\n",
    "    print(\"you did not enter a valid number\")"
   ]
  },
  {
   "cell_type": "markdown",
   "metadata": {},
   "source": [
    "## Inline If"
   ]
  },
  {
   "cell_type": "markdown",
   "metadata": {},
   "source": [
    "An inline if statement is a simpler form of an if statement if you only need to perform a simple task.\n",
    "do Task A if condition is true else do Task B"
   ]
  },
  {
   "cell_type": "code",
   "execution_count": null,
   "metadata": {},
   "outputs": [],
   "source": [
    "myInt = input(\"Enter 6 or 7: \")\n",
    "print(\"Archer\") if myInt == \"6\" else print(\"Rick and Morty\")"
   ]
  },
  {
   "cell_type": "markdown",
   "metadata": {},
   "source": [
    "### For Loop"
   ]
  },
  {
   "cell_type": "markdown",
   "metadata": {},
   "source": [
    "The for looop executes a block of code repeatedly until the condition in the for statement is no longer valid.\n",
    "\n",
    "Looping through an iterable: an iterable refers to anything that can be looped over a string, list or tuple\n",
    "\n",
    "for a in iterable:\n",
    "    print(a)"
   ]
  },
  {
   "cell_type": "code",
   "execution_count": null,
   "metadata": {},
   "outputs": [],
   "source": [
    "pets = [\"cats\", \"dogs\", \"rabits\", \"hamsters\"]\n",
    "for myPets in pets:\n",
    "    print (myPets)"
   ]
  },
  {
   "cell_type": "code",
   "execution_count": 2,
   "metadata": {},
   "outputs": [
    {
     "name": "stdout",
     "output_type": "stream",
     "text": [
      "0 cats\n",
      "1 dogs\n",
      "2 rabits\n",
      "3 hamsters\n"
     ]
    }
   ],
   "source": [
    "# We can display the index of the members in the list with the enumerate() function\n",
    "pets = ['cats', 'dogs', 'rabits', 'hamsters']\n",
    "for index, myPets in enumerate(pets):\n",
    "    print(index, myPets)"
   ]
  },
  {
   "cell_type": "code",
   "execution_count": 1,
   "metadata": {},
   "outputs": [
    {
     "name": "stdout",
     "output_type": "stream",
     "text": [
      "H\n",
      "e\n",
      "l\n",
      "l\n",
      "o\n"
     ]
    }
   ],
   "source": [
    "message = 'Hello'\n",
    "for i in message:\n",
    "    print(i)"
   ]
  },
  {
   "cell_type": "markdown",
   "metadata": {},
   "source": [
    "#### Looping through a sequence of numbers"
   ]
  },
  {
   "cell_type": "markdown",
   "metadata": {},
   "source": [
    "To loop through a sequence of numbers we use the range() function.\n",
    "\n",
    "The range() function generates a list of numbers\n",
    "range(start, end, step) If start is not given the numbers generated will start from zero. If step not given a list of consecutive numbers will be generated. \n",
    "The end value must be provided."
   ]
  },
  {
   "cell_type": "code",
   "execution_count": null,
   "metadata": {},
   "outputs": [],
   "source": [
    "list(range(5))"
   ]
  },
  {
   "cell_type": "code",
   "execution_count": null,
   "metadata": {},
   "outputs": [],
   "source": [
    "list(range(3, 10))"
   ]
  },
  {
   "cell_type": "code",
   "execution_count": null,
   "metadata": {},
   "outputs": [],
   "source": [
    "list(range(4, 10, 2))"
   ]
  },
  {
   "cell_type": "code",
   "execution_count": null,
   "metadata": {},
   "outputs": [],
   "source": [
    "for i in range(5):\n",
    "    print(i)"
   ]
  },
  {
   "cell_type": "markdown",
   "metadata": {},
   "source": [
    "#### While Loop"
   ]
  },
  {
   "cell_type": "markdown",
   "metadata": {},
   "source": [
    "The while loop repeatedly executes isntructions inside the loop while a certain condition remains valid.\n",
    "while condition is true:\n",
    "    do A\n",
    "    \n",
    "Most of the time we need to declare first a variable to function as a loop counter."
   ]
  },
  {
   "cell_type": "code",
   "execution_count": null,
   "metadata": {},
   "outputs": [],
   "source": [
    "counter = 5 # Loop counter variable\n",
    "while counter > 0:\n",
    "    print(\"Counter = \", counter)\n",
    "    counter = counter - 1 #This line decreases the value of the counter by 1 and assigns a new value to counter "
   ]
  },
  {
   "cell_type": "markdown",
   "metadata": {},
   "source": [
    "#### Break"
   ]
  },
  {
   "cell_type": "markdown",
   "metadata": {},
   "source": [
    "When working with loops sometimes you may want to exit the entire loop when a certain condition is met."
   ]
  },
  {
   "cell_type": "code",
   "execution_count": null,
   "metadata": {},
   "outputs": [],
   "source": [
    "j = 0\n",
    "for i in range(5):\n",
    "    j = j + 2\n",
    "    print('i = ', i, 'j = ', j)\n",
    "    if j == 6:\n",
    "        break"
   ]
  },
  {
   "cell_type": "markdown",
   "metadata": {},
   "source": [
    "#### Continue"
   ]
  },
  {
   "cell_type": "markdown",
   "metadata": {},
   "source": [
    "When we use continue, the rest of the loop after the keyword is skipped for that iteration."
   ]
  },
  {
   "cell_type": "code",
   "execution_count": null,
   "metadata": {},
   "outputs": [],
   "source": [
    "j = 0\n",
    "for i in range(5):\n",
    "    j = j + 2\n",
    "    print('i = ', i, 'j = ', j)\n",
    "    if j == 6:\n",
    "        continue\n",
    "    print('I will be skipped over if j = 6')"
   ]
  },
  {
   "cell_type": "markdown",
   "metadata": {},
   "source": [
    "#### Try, Except"
   ]
  },
  {
   "cell_type": "markdown",
   "metadata": {},
   "source": [
    "This statement controls how the program proceeds whrn an error occurs.\n",
    "\n",
    "try:\n",
    "\n",
    "    do something\n",
    "\n",
    "except:\n",
    "\n",
    "    do something else when an error occurs"
   ]
  },
  {
   "cell_type": "code",
   "execution_count": null,
   "metadata": {},
   "outputs": [],
   "source": [
    "try:\n",
    "    answer = 12/0\n",
    "    print(answer)\n",
    "except:\n",
    "    print(\"An error occured\")"
   ]
  },
  {
   "cell_type": "code",
   "execution_count": null,
   "metadata": {},
   "outputs": [],
   "source": [
    "try:\n",
    "    userInput1 = int(input(\"Please enter a number: \"))\n",
    "    userInput2 = int(input(\"Please enter another number: \"))\n",
    "    answer = userInput1 / userInput2\n",
    "    print(\"The answer is \", answer)\n",
    "    myFile = open(\"missing.txt\", 'r')\n",
    "except ValueError:\n",
    "9    print(\"Error: You did not enter a number\")\n",
    "except ZeroDivisionError:\n",
    "    print(\"Error: Cannot divide by zero\")\n",
    "except Exception as e:\n",
    "    print(\"Unknown error: \", e)"
   ]
  },
  {
   "cell_type": "markdown",
   "metadata": {},
   "source": [
    "## Functions and Modules"
   ]
  },
  {
   "cell_type": "markdown",
   "metadata": {},
   "source": [
    "### What are Functions?"
   ]
  },
  {
   "cell_type": "markdown",
   "metadata": {},
   "source": [
    "Functions are pre-written codes that perform a certain task. Depending on how the function is written, we can call the function simply by typing the name of the function or by using the dot notation.Some functions require us to pass data in for them to perform their tasks. This data is known as parametersand we pass them to the function by enclosing their values in parentesis () separeted by commas."
   ]
  },
  {
   "cell_type": "code",
   "execution_count": null,
   "metadata": {},
   "outputs": [],
   "source": [
    "print(\"Hello World\") # print is the name of the function. \"hello world\" is the parameter"
   ]
  },
  {
   "cell_type": "code",
   "execution_count": null,
   "metadata": {},
   "outputs": [],
   "source": [
    "print(\"Hello World\")\n",
    "\"Hello World\".replace(\"World\", \"Universe\")"
   ]
  },
  {
   "cell_type": "markdown",
   "metadata": {},
   "source": [
    "### Define your onw functions"
   ]
  },
  {
   "cell_type": "markdown",
   "metadata": {},
   "source": [
    "We can define our own functions in python\n",
    "\n",
    "def functionName(parameters): \n",
    "\n",
    "    code detailing what the function should do\n",
    "    \n",
    "    return [expression]\n",
    "    \n",
    " def: tells the program that the next line onwards is part of a function.\n",
    " return: return an answer to the function."
   ]
  },
  {
   "cell_type": "code",
   "execution_count": null,
   "metadata": {},
   "outputs": [],
   "source": [
    "def CheckIfPrime (numberToCheck):\n",
    "    for x in range(2, numberToCheck):\n",
    "        if(numberToCheck%x == 0):\n",
    "            return False\n",
    "        return True\n",
    "answer = CheckIfPrime(10)\n",
    "print(answer)"
   ]
  },
  {
   "cell_type": "markdown",
   "metadata": {},
   "source": [
    "### Variable Scope"
   ]
  },
  {
   "cell_type": "markdown",
   "metadata": {},
   "source": [
    "Variables declared inside a function are only accessible within the function. known as local variables. \n",
    "\n",
    "Any variable decalre outside a function is known as a global variable and is accessible anywhere in the program."
   ]
  },
  {
   "cell_type": "code",
   "execution_count": null,
   "metadata": {},
   "outputs": [],
   "source": [
    "message1 = \"Global Variable\"\n",
    "\n",
    "def myFunction():\n",
    "    print(\"\\nINSIDE THE FUNCTION\") \n",
    "    #Global variables are accessible inside a function\n",
    "    print(message1)\n",
    "    #Declaring a local variable\n",
    "    message2 = \"Local Variable\"\n",
    "    print(message2)\n",
    "    \n",
    "# Calling the function\n",
    "myFunction()\n",
    "\n",
    "print(\"\\nOUTSIDE THE FUNCTION\")\n",
    "\n",
    "# Global variables re accessible outside function\n",
    "print(message1)\n",
    "\n",
    "# Local variables are NOT accessible outside function.\n",
    "print(message2)"
   ]
  },
  {
   "cell_type": "code",
   "execution_count": null,
   "metadata": {},
   "outputs": [],
   "source": [
    "message1 = \"Global Variable (Shares same name as a local variable)\"\n",
    "\n",
    "def myFunction():\n",
    "    message1 = \"Local Variable (Shares same name as a Global variable)\"\n",
    "    print(\"\\nINSIDE THE FUNCTION\")\n",
    "    print(message1)\n",
    "    \n",
    "# Calling the function\n",
    "myFunction()\n",
    "\n",
    "# Printing message1 OUTSIDE the function\n",
    "print(\"\\nOUTSIDE THE FUNCTION\")\n",
    "print(message1)"
   ]
  },
  {
   "cell_type": "markdown",
   "metadata": {},
   "source": [
    "### Importing Modules"
   ]
  },
  {
   "cell_type": "markdown",
   "metadata": {},
   "source": [
    "functions are saved in files known as Modules. we use them by first import them into the program with the function import.\n",
    "\n",
    "Import moduleName\n"
   ]
  },
  {
   "cell_type": "code",
   "execution_count": null,
   "metadata": {},
   "outputs": [],
   "source": [
    "import random\n",
    "# We want to use randrange() function\n",
    "random.randrange(1, 10)"
   ]
  },
  {
   "cell_type": "code",
   "execution_count": null,
   "metadata": {},
   "outputs": [],
   "source": [
    "import random as r\n",
    "# we want to use randrange() function\n",
    "r.randrange(1,10)"
   ]
  },
  {
   "cell_type": "code",
   "execution_count": null,
   "metadata": {},
   "outputs": [],
   "source": [
    "# we import the module by import specific functions \n",
    "# from moduleName import name1[, name2[, ... nameN]]\n",
    "from random import randrange, randint\n",
    "randrange(1, 10)"
   ]
  },
  {
   "cell_type": "markdown",
   "metadata": {},
   "source": [
    "### Creating your own module"
   ]
  },
  {
   "cell_type": "markdown",
   "metadata": {},
   "source": [
    "To create a module in python save a file with a .py extension and put it the same folder as the python file.\n",
    "\n"
   ]
  },
  {
   "cell_type": "markdown",
   "metadata": {},
   "source": [
    "## Working with files"
   ]
  },
  {
   "cell_type": "markdown",
   "metadata": {},
   "source": [
    "### Opening and Reading Files "
   ]
  },
  {
   "cell_type": "code",
   "execution_count": null,
   "metadata": {},
   "outputs": [],
   "source": [
    "f = open('myfile.txt', 'r')\n",
    "\n",
    "firstline = f.readline()\n",
    "secondline = f.readline()\n",
    "print(firstline)\n",
    "print(secondline)\n",
    "\n",
    "f.close()"
   ]
  },
  {
   "cell_type": "code",
   "execution_count": 41,
   "metadata": {},
   "outputs": [
    {
     "name": "stdout",
     "output_type": "stream",
     "text": [
      "f = open('myfile.txt','r')\n",
      "\n",
      "\n",
      "\n",
      "firstline = f.readline()\n",
      "\n"
     ]
    }
   ],
   "source": [
    "f = open('fileOperation.py', 'r')\n",
    "\n",
    "print(f.readline())\n",
    "print(f.readline())\n",
    "print(f.readline())\n",
    "\n",
    "f.close()"
   ]
  },
  {
   "cell_type": "markdown",
   "metadata": {},
   "source": [
    "### Using a For Loop to Read Text Files"
   ]
  },
  {
   "cell_type": "code",
   "execution_count": 40,
   "metadata": {},
   "outputs": [
    {
     "name": "stdout",
     "output_type": "stream",
     "text": [
      "Learn Python in One Day and Learn it Well Python for Beginners with Hands-on Project. The only book you need to start coding in Python inmediately.\n",
      "http://www.learncodingfast.com/python\n",
      "This sentence will be appended.\n",
      "Python is fun!\n",
      "This sentence will be appended.\n",
      "Python is fun!\n",
      "This sentence will be appended.\n",
      "Python is fun!\n",
      "This sentence will be appended.\n",
      "Python is fun!\n",
      "This sentence will be appended.\n",
      "Python is fun!"
     ]
    }
   ],
   "source": [
    "f = open('myfile.txt', 'r')\n",
    "\n",
    "for line in f:\n",
    "    print(line, end = '')\n",
    "f.close()"
   ]
  },
  {
   "cell_type": "code",
   "execution_count": 39,
   "metadata": {},
   "outputs": [
    {
     "name": "stdout",
     "output_type": "stream",
     "text": [
      "f = open('myfile.txt','r')\n",
      "\n",
      "firstline = f.readline()\n",
      "secondline = f.readline()\n",
      "print(firstline)\n",
      "print(secondline)\n",
      "\n",
      "f.close()"
     ]
    }
   ],
   "source": [
    "f = open('fileOperation.py', 'r')\n",
    "\n",
    "for line in f:\n",
    "    print(line, end = '')\n",
    "f.close()"
   ]
  },
  {
   "cell_type": "markdown",
   "metadata": {},
   "source": [
    "### Writing to a Text File"
   ]
  },
  {
   "cell_type": "markdown",
   "metadata": {},
   "source": [
    "to write a file we use the 'a' (append) mode.\n",
    "\n",
    "We can use the 'w' mode but it will erase all previous content in the file if the file already exists."
   ]
  },
  {
   "cell_type": "code",
   "execution_count": null,
   "metadata": {},
   "outputs": [],
   "source": [
    "f = open ('myfile.txt', 'a')\n",
    "\n",
    "f.write('\\nThis sentence will be appended.')\n",
    "f.write('\\nPython is fun!')\n",
    "\n",
    "f.close()\n",
    "\n",
    "f = open('myfile.txt', 'r')\n",
    "\n",
    "for line in f:\n",
    "    print(line, end = '')\n",
    "f.close()"
   ]
  },
  {
   "cell_type": "markdown",
   "metadata": {},
   "source": [
    "### Opening and Reading Text Files by Buffer Size"
   ]
  },
  {
   "cell_type": "markdown",
   "metadata": {},
   "source": [
    "Sometimes we may want to read a file by buffer size so that our program does not use too much memory resources.\n",
    "\n",
    "To do this we use read() function instead of readline() function."
   ]
  },
  {
   "cell_type": "code",
   "execution_count": null,
   "metadata": {},
   "outputs": [],
   "source": [
    "inputFile = open('myFile.txt', 'r')\n",
    "outputFile = open('myoutputfile.txt', 'w')\n",
    "\n",
    "msg = inputFile.read(10)\n",
    "\n",
    "while len(msg):\n",
    "    outputFile.write(msg + '\\n')\n",
    "    msg = inputFile.read(10)\n",
    "    \n",
    "inputFile.close()\n",
    "outputFile.close()"
   ]
  },
  {
   "cell_type": "code",
   "execution_count": null,
   "metadata": {},
   "outputs": [],
   "source": [
    "f = open('myoutputfile.txt', 'r')\n",
    "\n",
    "for line in f:\n",
    "    print(line, end = '')\n",
    "f.close()"
   ]
  },
  {
   "cell_type": "markdown",
   "metadata": {},
   "source": [
    "### Opening, Reading and Writting Binary Files"
   ]
  },
  {
   "cell_type": "code",
   "execution_count": null,
   "metadata": {},
   "outputs": [],
   "source": [
    "inputFile = open('myimage.jpg', 'rb')\n",
    "outputFile = open('myoutputimage.jpg', 'wb')\n",
    "\n",
    "msg = inputFile.read()\n",
    "\n",
    "while len(msg):\n",
    "    outputFile.write(msg)\n",
    "    msg = inputFile.read()\n",
    "    \n",
    "inputFile.close()\n",
    "outputFile.close()"
   ]
  },
  {
   "cell_type": "code",
   "execution_count": null,
   "metadata": {},
   "outputs": [],
   "source": [
    "f = open('myimage.jpg', \"rb\")\n",
    "print(f)\n",
    "f.close()"
   ]
  },
  {
   "cell_type": "markdown",
   "metadata": {},
   "source": [
    "### Deleting and Renaming Files"
   ]
  },
  {
   "cell_type": "code",
   "execution_count": null,
   "metadata": {},
   "outputs": [],
   "source": [
    "remove('myoutputimage.jpg')"
   ]
  },
  {
   "cell_type": "markdown",
   "metadata": {},
   "source": [
    "# Appendix A: Working with Strings"
   ]
  },
  {
   "cell_type": "markdown",
   "metadata": {},
   "source": [
    "The notation [start, [end]] means start and end are optional parameters."
   ]
  },
  {
   "cell_type": "markdown",
   "metadata": {},
   "source": [
    "## count(sub, [start, [end]])"
   ]
  },
  {
   "cell_type": "markdown",
   "metadata": {},
   "source": [
    "Returns the number of times the substring sub appears in the string. This function is case sensitive."
   ]
  },
  {
   "cell_type": "code",
   "execution_count": 1,
   "metadata": {},
   "outputs": [
    {
     "data": {
      "text/plain": [
       "3"
      ]
     },
     "execution_count": 1,
     "metadata": {},
     "output_type": "execute_result"
    }
   ],
   "source": [
    "# In the example below, 's' occurs at index 3, 6 and 10\n",
    "\"this is a string\".count('s') #Count the entire string"
   ]
  },
  {
   "cell_type": "code",
   "execution_count": 2,
   "metadata": {},
   "outputs": [
    {
     "data": {
      "text/plain": [
       "2"
      ]
     },
     "execution_count": 2,
     "metadata": {},
     "output_type": "execute_result"
    }
   ],
   "source": [
    "\"This is a string\".count('s', 4) # Count from index 4 to end of string"
   ]
  },
  {
   "cell_type": "code",
   "execution_count": 3,
   "metadata": {},
   "outputs": [
    {
     "data": {
      "text/plain": [
       "1"
      ]
     },
     "execution_count": 3,
     "metadata": {},
     "output_type": "execute_result"
    }
   ],
   "source": [
    "\"This is a string\".count('s', 4, 10) # Count from index 4 to 10-1"
   ]
  },
  {
   "cell_type": "markdown",
   "metadata": {},
   "source": [
    "## endswith(suffix, [start, [end]])"
   ]
  },
  {
   "cell_type": "markdown",
   "metadata": {},
   "source": [
    "Returns True if the string ends with the specified suffix, othewise return False. Suffix can also be a tuple of suffixes to look for. This function is case sensitive"
   ]
  },
  {
   "cell_type": "code",
   "execution_count": 6,
   "metadata": {},
   "outputs": [
    {
     "data": {
      "text/plain": [
       "True"
      ]
     },
     "execution_count": 6,
     "metadata": {},
     "output_type": "execute_result"
    }
   ],
   "source": [
    "# 'man' occurs at index 4 to 6\n",
    "# Check the entire string\n",
    "\"Postman\".endswith('man')"
   ]
  },
  {
   "cell_type": "code",
   "execution_count": 7,
   "metadata": {},
   "outputs": [
    {
     "data": {
      "text/plain": [
       "True"
      ]
     },
     "execution_count": 7,
     "metadata": {},
     "output_type": "execute_result"
    }
   ],
   "source": [
    "\"Postman\".endswith('man', 3) #Check from index 3 to end of string"
   ]
  },
  {
   "cell_type": "code",
   "execution_count": 8,
   "metadata": {},
   "outputs": [
    {
     "data": {
      "text/plain": [
       "False"
      ]
     },
     "execution_count": 8,
     "metadata": {},
     "output_type": "execute_result"
    }
   ],
   "source": [
    "\"Postman\".endswith('man', 2, 6) # Check from index 2 to 6-1"
   ]
  },
  {
   "cell_type": "code",
   "execution_count": 9,
   "metadata": {},
   "outputs": [
    {
     "data": {
      "text/plain": [
       "True"
      ]
     },
     "execution_count": 9,
     "metadata": {},
     "output_type": "execute_result"
    }
   ],
   "source": [
    "\"Postman\".endswith('man', 2, 7) # Checks from index 2 to 7-1"
   ]
  },
  {
   "cell_type": "code",
   "execution_count": 10,
   "metadata": {},
   "outputs": [
    {
     "data": {
      "text/plain": [
       "True"
      ]
     },
     "execution_count": 10,
     "metadata": {},
     "output_type": "execute_result"
    }
   ],
   "source": [
    "\"Postman\".endswith(('man', 'ma'), 2, 6) # Using a tuple of suffixes that checks from index 2 to 6-1"
   ]
  },
  {
   "cell_type": "markdown",
   "metadata": {},
   "source": [
    "## find/index(sub, [start, [end]])"
   ]
  },
  {
   "cell_type": "markdown",
   "metadata": {},
   "source": [
    "Return the index in the string where the first ocurrence of the substring sub is found.\n",
    "\n",
    "find() returns -1 if sub is not found\n",
    "\n",
    "index() returns ValueError if sub is not found.\n",
    "\n",
    "This function is case sensitive"
   ]
  },
  {
   "cell_type": "code",
   "execution_count": 3,
   "metadata": {},
   "outputs": [
    {
     "data": {
      "text/plain": [
       "3"
      ]
     },
     "execution_count": 3,
     "metadata": {},
     "output_type": "execute_result"
    }
   ],
   "source": [
    "# Check the entire string\n",
    "'this is a string'.find('s')"
   ]
  },
  {
   "cell_type": "code",
   "execution_count": 4,
   "metadata": {},
   "outputs": [
    {
     "data": {
      "text/plain": [
       "6"
      ]
     },
     "execution_count": 4,
     "metadata": {},
     "output_type": "execute_result"
    }
   ],
   "source": [
    "# Check from index 4 to end string\n",
    "'this is a string'.find('s', 4)"
   ]
  },
  {
   "cell_type": "code",
   "execution_count": 5,
   "metadata": {},
   "outputs": [
    {
     "data": {
      "text/plain": [
       "10"
      ]
     },
     "execution_count": 5,
     "metadata": {},
     "output_type": "execute_result"
    }
   ],
   "source": [
    "# Check from index 7 to 11-1\n",
    "'this is a string'.find('s', 7, 11)"
   ]
  },
  {
   "cell_type": "code",
   "execution_count": 6,
   "metadata": {},
   "outputs": [
    {
     "data": {
      "text/plain": [
       "-1"
      ]
     },
     "execution_count": 6,
     "metadata": {},
     "output_type": "execute_result"
    }
   ],
   "source": [
    "# sub not found\n",
    "'this is a string'.find('p')"
   ]
  },
  {
   "cell_type": "code",
   "execution_count": 7,
   "metadata": {},
   "outputs": [
    {
     "ename": "ValueError",
     "evalue": "substring not found",
     "output_type": "error",
     "traceback": [
      "\u001b[1;31m---------------------------------------------------------------------------\u001b[0m",
      "\u001b[1;31mValueError\u001b[0m                                Traceback (most recent call last)",
      "\u001b[1;32m<ipython-input-7-8e6e1fe8bb76>\u001b[0m in \u001b[0;36m<module>\u001b[1;34m\u001b[0m\n\u001b[0;32m      1\u001b[0m \u001b[1;31m# sub not found\u001b[0m\u001b[1;33m\u001b[0m\u001b[1;33m\u001b[0m\u001b[1;33m\u001b[0m\u001b[0m\n\u001b[1;32m----> 2\u001b[1;33m \u001b[1;34m'this is a string'\u001b[0m\u001b[1;33m.\u001b[0m\u001b[0mindex\u001b[0m\u001b[1;33m(\u001b[0m\u001b[1;34m'p'\u001b[0m\u001b[1;33m)\u001b[0m\u001b[1;33m\u001b[0m\u001b[1;33m\u001b[0m\u001b[0m\n\u001b[0m",
      "\u001b[1;31mValueError\u001b[0m: substring not found"
     ]
    }
   ],
   "source": [
    "# sub not found\n",
    "'this is a string'.index('p')"
   ]
  },
  {
   "cell_type": "markdown",
   "metadata": {},
   "source": [
    "## isalnum()"
   ]
  },
  {
   "cell_type": "markdown",
   "metadata": {},
   "source": [
    "Return True if all characters in the string are alphanumeric and there is at least one character, false otherwise.\n",
    "\n",
    "alphanumeric does not include whitespaces."
   ]
  },
  {
   "cell_type": "code",
   "execution_count": 8,
   "metadata": {},
   "outputs": [
    {
     "data": {
      "text/plain": [
       "True"
      ]
     },
     "execution_count": 8,
     "metadata": {},
     "output_type": "execute_result"
    }
   ],
   "source": [
    "'abcd1234'.isalnum()"
   ]
  },
  {
   "cell_type": "code",
   "execution_count": 9,
   "metadata": {},
   "outputs": [
    {
     "data": {
      "text/plain": [
       "False"
      ]
     },
     "execution_count": 9,
     "metadata": {},
     "output_type": "execute_result"
    }
   ],
   "source": [
    "\"a b c d 1 2 3 4\".isalnum()"
   ]
  },
  {
   "cell_type": "code",
   "execution_count": 10,
   "metadata": {},
   "outputs": [
    {
     "data": {
      "text/plain": [
       "True"
      ]
     },
     "execution_count": 10,
     "metadata": {},
     "output_type": "execute_result"
    }
   ],
   "source": [
    "'abcd'.isalnum()"
   ]
  },
  {
   "cell_type": "code",
   "execution_count": 12,
   "metadata": {},
   "outputs": [
    {
     "data": {
      "text/plain": [
       "True"
      ]
     },
     "execution_count": 12,
     "metadata": {},
     "output_type": "execute_result"
    }
   ],
   "source": [
    "'1234'.isalnum()"
   ]
  },
  {
   "cell_type": "markdown",
   "metadata": {},
   "source": [
    "## isalpha()"
   ]
  },
  {
   "cell_type": "markdown",
   "metadata": {},
   "source": [
    "Return True if all characters in the string are alphabetic and there is at least one character, False otherwise."
   ]
  },
  {
   "cell_type": "code",
   "execution_count": 13,
   "metadata": {},
   "outputs": [
    {
     "data": {
      "text/plain": [
       "True"
      ]
     },
     "execution_count": 13,
     "metadata": {},
     "output_type": "execute_result"
    }
   ],
   "source": [
    "'abcd'.isalpha()"
   ]
  },
  {
   "cell_type": "code",
   "execution_count": 14,
   "metadata": {},
   "outputs": [
    {
     "data": {
      "text/plain": [
       "False"
      ]
     },
     "execution_count": 14,
     "metadata": {},
     "output_type": "execute_result"
    }
   ],
   "source": [
    "'abcd1234'.isalpha()"
   ]
  },
  {
   "cell_type": "code",
   "execution_count": 15,
   "metadata": {},
   "outputs": [
    {
     "data": {
      "text/plain": [
       "False"
      ]
     },
     "execution_count": 15,
     "metadata": {},
     "output_type": "execute_result"
    }
   ],
   "source": [
    "'1234'.isalpha()"
   ]
  },
  {
   "cell_type": "code",
   "execution_count": 16,
   "metadata": {},
   "outputs": [
    {
     "data": {
      "text/plain": [
       "False"
      ]
     },
     "execution_count": 16,
     "metadata": {},
     "output_type": "execute_result"
    }
   ],
   "source": [
    "'a b c'.isalpha()"
   ]
  },
  {
   "cell_type": "markdown",
   "metadata": {},
   "source": [
    "## isdigit()"
   ]
  },
  {
   "cell_type": "markdown",
   "metadata": {},
   "source": [
    "Return true if all characters in the string are digits and there is at least one character, false otherwise."
   ]
  },
  {
   "cell_type": "code",
   "execution_count": 17,
   "metadata": {},
   "outputs": [
    {
     "data": {
      "text/plain": [
       "True"
      ]
     },
     "execution_count": 17,
     "metadata": {},
     "output_type": "execute_result"
    }
   ],
   "source": [
    "'1234'.isdigit()"
   ]
  },
  {
   "cell_type": "code",
   "execution_count": 18,
   "metadata": {},
   "outputs": [
    {
     "data": {
      "text/plain": [
       "False"
      ]
     },
     "execution_count": 18,
     "metadata": {},
     "output_type": "execute_result"
    }
   ],
   "source": [
    "'abcd1234'.isdigit()"
   ]
  },
  {
   "cell_type": "code",
   "execution_count": 19,
   "metadata": {},
   "outputs": [
    {
     "data": {
      "text/plain": [
       "False"
      ]
     },
     "execution_count": 19,
     "metadata": {},
     "output_type": "execute_result"
    }
   ],
   "source": [
    "'abcd'.isdigit()"
   ]
  },
  {
   "cell_type": "code",
   "execution_count": 20,
   "metadata": {},
   "outputs": [
    {
     "data": {
      "text/plain": [
       "False"
      ]
     },
     "execution_count": 20,
     "metadata": {},
     "output_type": "execute_result"
    }
   ],
   "source": [
    "'1 2 3 4'.isdigit()"
   ]
  },
  {
   "cell_type": "markdown",
   "metadata": {},
   "source": [
    "## islower()"
   ]
  },
  {
   "cell_type": "markdown",
   "metadata": {},
   "source": [
    "Return True if all cased characters in the string are lowercase and there is at least one cased character, False otherwise."
   ]
  },
  {
   "cell_type": "code",
   "execution_count": 21,
   "metadata": {},
   "outputs": [
    {
     "data": {
      "text/plain": [
       "True"
      ]
     },
     "execution_count": 21,
     "metadata": {},
     "output_type": "execute_result"
    }
   ],
   "source": [
    "'abcd'.islower()"
   ]
  },
  {
   "cell_type": "code",
   "execution_count": 22,
   "metadata": {},
   "outputs": [
    {
     "data": {
      "text/plain": [
       "False"
      ]
     },
     "execution_count": 22,
     "metadata": {},
     "output_type": "execute_result"
    }
   ],
   "source": [
    "'Abcd'.islower()"
   ]
  },
  {
   "cell_type": "code",
   "execution_count": 23,
   "metadata": {},
   "outputs": [
    {
     "data": {
      "text/plain": [
       "False"
      ]
     },
     "execution_count": 23,
     "metadata": {},
     "output_type": "execute_result"
    }
   ],
   "source": [
    "'ABCD'.islower()"
   ]
  },
  {
   "cell_type": "markdown",
   "metadata": {},
   "source": [
    "## isspace()"
   ]
  },
  {
   "cell_type": "markdown",
   "metadata": {},
   "source": [
    "Return True if there are oly whitespace characters in the string and there is at least one character, false otherwise."
   ]
  },
  {
   "cell_type": "code",
   "execution_count": 25,
   "metadata": {},
   "outputs": [
    {
     "data": {
      "text/plain": [
       "True"
      ]
     },
     "execution_count": 25,
     "metadata": {},
     "output_type": "execute_result"
    }
   ],
   "source": [
    "' '.isspace()"
   ]
  },
  {
   "cell_type": "code",
   "execution_count": 26,
   "metadata": {},
   "outputs": [
    {
     "data": {
      "text/plain": [
       "False"
      ]
     },
     "execution_count": 26,
     "metadata": {},
     "output_type": "execute_result"
    }
   ],
   "source": [
    "'a b'.isspace()"
   ]
  },
  {
   "cell_type": "markdown",
   "metadata": {},
   "source": [
    "## istitle()"
   ]
  },
  {
   "cell_type": "markdown",
   "metadata": {},
   "source": [
    "Return true if the string is a titlecased string and there is at least one character."
   ]
  },
  {
   "cell_type": "code",
   "execution_count": 27,
   "metadata": {},
   "outputs": [
    {
     "data": {
      "text/plain": [
       "True"
      ]
     },
     "execution_count": 27,
     "metadata": {},
     "output_type": "execute_result"
    }
   ],
   "source": [
    "'This Is A String'.istitle()"
   ]
  },
  {
   "cell_type": "code",
   "execution_count": 28,
   "metadata": {},
   "outputs": [
    {
     "data": {
      "text/plain": [
       "False"
      ]
     },
     "execution_count": 28,
     "metadata": {},
     "output_type": "execute_result"
    }
   ],
   "source": [
    "'This is a string'.istitle()"
   ]
  },
  {
   "cell_type": "markdown",
   "metadata": {},
   "source": [
    "## isupper()"
   ]
  },
  {
   "cell_type": "markdown",
   "metadata": {},
   "source": [
    "Return True if all cased characters in the string are uppercase and there is at least one cased character, False otherwise."
   ]
  },
  {
   "cell_type": "code",
   "execution_count": 29,
   "metadata": {},
   "outputs": [
    {
     "data": {
      "text/plain": [
       "True"
      ]
     },
     "execution_count": 29,
     "metadata": {},
     "output_type": "execute_result"
    }
   ],
   "source": [
    "'ABCD'.isupper()"
   ]
  },
  {
   "cell_type": "code",
   "execution_count": 30,
   "metadata": {},
   "outputs": [
    {
     "data": {
      "text/plain": [
       "False"
      ]
     },
     "execution_count": 30,
     "metadata": {},
     "output_type": "execute_result"
    }
   ],
   "source": [
    "'Abcd'.isupper()"
   ]
  },
  {
   "cell_type": "code",
   "execution_count": 32,
   "metadata": {},
   "outputs": [
    {
     "data": {
      "text/plain": [
       "False"
      ]
     },
     "execution_count": 32,
     "metadata": {},
     "output_type": "execute_result"
    }
   ],
   "source": [
    "'abcd'.isupper()"
   ]
  },
  {
   "cell_type": "markdown",
   "metadata": {},
   "source": [
    "## join()"
   ]
  },
  {
   "cell_type": "markdown",
   "metadata": {},
   "source": [
    "Return a string in which the parameter provided is joined by a separator."
   ]
  },
  {
   "cell_type": "code",
   "execution_count": 35,
   "metadata": {},
   "outputs": [
    {
     "data": {
      "text/plain": [
       "'H-e-l-l-o- -W-o-r-l-d'"
      ]
     },
     "execution_count": 35,
     "metadata": {},
     "output_type": "execute_result"
    }
   ],
   "source": [
    "sep = '-'\n",
    "myTuple = ('a', 'b', 'c')\n",
    "myList = ['d', 'e', 'f']\n",
    "myString = 'Hello World'\n",
    "#sep.join(myTuple)\n",
    "#sep.join(myList)\n",
    "sep.join(myString)"
   ]
  },
  {
   "cell_type": "markdown",
   "metadata": {},
   "source": [
    "## lower()"
   ]
  },
  {
   "cell_type": "markdown",
   "metadata": {},
   "source": [
    "Return a copy of the string converted to lowercase."
   ]
  },
  {
   "cell_type": "code",
   "execution_count": 36,
   "metadata": {},
   "outputs": [
    {
     "data": {
      "text/plain": [
       "'hello python'"
      ]
     },
     "execution_count": 36,
     "metadata": {},
     "output_type": "execute_result"
    }
   ],
   "source": [
    "'Hello Python'.lower()"
   ]
  },
  {
   "cell_type": "markdown",
   "metadata": {},
   "source": [
    "## replace(old, new[, count])"
   ]
  },
  {
   "cell_type": "markdown",
   "metadata": {},
   "source": [
    "Return a copy of the string with all ocurrences of substring old replaced by new. \n",
    "\n",
    "count is optional. if given, only the first count ocurrences are replaced.\n",
    "\n",
    "This function is case sensitive."
   ]
  },
  {
   "cell_type": "code",
   "execution_count": 39,
   "metadata": {},
   "outputs": [
    {
     "data": {
      "text/plain": [
       "'Thip ip pometimep a ptring'"
      ]
     },
     "execution_count": 39,
     "metadata": {},
     "output_type": "execute_result"
    }
   ],
   "source": [
    "# Replace all occurences\n",
    "'This is sometimes a string'.replace('s', 'p')"
   ]
  },
  {
   "cell_type": "code",
   "execution_count": 42,
   "metadata": {},
   "outputs": [
    {
     "data": {
      "text/plain": [
       "'Thip ip sometimes a string'"
      ]
     },
     "execution_count": 42,
     "metadata": {},
     "output_type": "execute_result"
    }
   ],
   "source": [
    "# Replaces first 2 occurences\n",
    "'This is sometimes a string'.replace('s', 'p', 2)"
   ]
  },
  {
   "cell_type": "markdown",
   "metadata": {},
   "source": [
    "## split([sep [,maxsplit]])"
   ]
  },
  {
   "cell_type": "markdown",
   "metadata": {},
   "source": [
    "return a list of the words in the string using sep as the delimiter string.\n",
    "\n",
    "sep and maxsplit are optional.\n",
    "\n",
    "if sep is not given, whitespace is used as the delimiter.\n",
    "\n",
    "If maxsplit is given, at most maxsplit splits are done.\n",
    "\n",
    "the function is case sensitive"
   ]
  },
  {
   "cell_type": "code",
   "execution_count": 43,
   "metadata": {},
   "outputs": [
    {
     "data": {
      "text/plain": [
       "['This', ' is', ' a', ' string']"
      ]
     },
     "execution_count": 43,
     "metadata": {},
     "output_type": "execute_result"
    }
   ],
   "source": [
    "'This, is, a, string'.split(',')"
   ]
  },
  {
   "cell_type": "code",
   "execution_count": 45,
   "metadata": {},
   "outputs": [
    {
     "data": {
      "text/plain": [
       "['This', 'is', 'a', 'string']"
      ]
     },
     "execution_count": 45,
     "metadata": {},
     "output_type": "execute_result"
    }
   ],
   "source": [
    "'This is a string'.split() # uses a whitespace as delimiter"
   ]
  },
  {
   "cell_type": "code",
   "execution_count": 53,
   "metadata": {},
   "outputs": [
    {
     "data": {
      "text/plain": [
       "['This', 'is', 'a string']"
      ]
     },
     "execution_count": 53,
     "metadata": {},
     "output_type": "execute_result"
    }
   ],
   "source": [
    "# Only do 2 splits\n",
    "'This is a string'.split(' ' ,2)"
   ]
  },
  {
   "cell_type": "markdown",
   "metadata": {},
   "source": [
    "## splitlines([keepends])"
   ]
  },
  {
   "cell_type": "markdown",
   "metadata": {},
   "source": [
    "Return a list of the lines in the string, breaking at line boundaries.\n",
    "\n",
    "Line breaks are not included in the resulting list unless keepends is given and true."
   ]
  },
  {
   "cell_type": "code",
   "execution_count": 59,
   "metadata": {},
   "outputs": [
    {
     "data": {
      "text/plain": [
       "['This is the first line.', 'This is the second line']"
      ]
     },
     "execution_count": 59,
     "metadata": {},
     "output_type": "execute_result"
    }
   ],
   "source": [
    "# Split lines separated by \\n\n",
    "'This is the first line.\\nThis is the second line'.splitlines()"
   ]
  },
  {
   "cell_type": "code",
   "execution_count": 60,
   "metadata": {},
   "outputs": [
    {
     "data": {
      "text/plain": [
       "['This is the first line. This is the second line.']"
      ]
     },
     "execution_count": 60,
     "metadata": {},
     "output_type": "execute_result"
    }
   ],
   "source": [
    "# Split multiline string separeted with`''\n",
    "'''This is the first line. This is the second line.'''.splitlines()"
   ]
  }
 ],
 "metadata": {
  "kernelspec": {
   "display_name": "Python 3",
   "language": "python",
   "name": "python3"
  },
  "language_info": {
   "codemirror_mode": {
    "name": "ipython",
    "version": 3
   },
   "file_extension": ".py",
   "mimetype": "text/x-python",
   "name": "python",
   "nbconvert_exporter": "python",
   "pygments_lexer": "ipython3",
   "version": "3.7.1"
  }
 },
 "nbformat": 4,
 "nbformat_minor": 4
}
