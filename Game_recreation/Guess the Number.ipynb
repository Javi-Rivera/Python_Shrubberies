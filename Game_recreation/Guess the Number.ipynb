{
 "cells": [
  {
   "cell_type": "code",
   "execution_count": 1,
   "metadata": {},
   "outputs": [
    {
     "name": "stdout",
     "output_type": "stream",
     "text": [
      "Welcome to guess the Number:\n",
      "         \n",
      "         Instructions:\n",
      "         \n",
      "         Player has to guess the secret number the computer chosses before it runs out of tries.\n",
      "         \n",
      "         The game comes in three difficulty levels:\n",
      "             \n",
      "             easy: guess a number between 0 and 99\n",
      "             medium: guess a number between 0 and 499\n",
      "             hard: guess a number between 0 and 999\n",
      "\n"
     ]
    },
    {
     "name": "stdin",
     "output_type": "stream",
     "text": [
      "choose the difficulty:  hard\n"
     ]
    },
    {
     "name": "stdout",
     "output_type": "stream",
     "text": [
      "======================================================\n",
      "New Game:\n",
      "\n",
      "Difficulty level: Hard.\n",
      "\n",
      "The game range is [0 - 10000)\n",
      "You have 14 tries\n"
     ]
    },
    {
     "name": "stdin",
     "output_type": "stream",
     "text": [
      "Guess:  5000\n"
     ]
    },
    {
     "name": "stdout",
     "output_type": "stream",
     "text": [
      "Higher!\n",
      "You have 13 tries left\n"
     ]
    },
    {
     "name": "stdin",
     "output_type": "stream",
     "text": [
      "Guess:  7500\n"
     ]
    },
    {
     "name": "stdout",
     "output_type": "stream",
     "text": [
      "Higher!\n",
      "You have 12 tries left\n"
     ]
    },
    {
     "name": "stdin",
     "output_type": "stream",
     "text": [
      "Guess:  8300\n"
     ]
    },
    {
     "name": "stdout",
     "output_type": "stream",
     "text": [
      "Higher!\n",
      "You have 11 tries left\n"
     ]
    },
    {
     "name": "stdin",
     "output_type": "stream",
     "text": [
      "Guess:  9000\n"
     ]
    },
    {
     "name": "stdout",
     "output_type": "stream",
     "text": [
      "Lower!\n",
      "You have 10 tries left\n"
     ]
    },
    {
     "name": "stdin",
     "output_type": "stream",
     "text": [
      "Guess:  8500\n"
     ]
    },
    {
     "name": "stdout",
     "output_type": "stream",
     "text": [
      "Higher!\n",
      "You have 9 tries left\n"
     ]
    },
    {
     "name": "stdin",
     "output_type": "stream",
     "text": [
      "Guess:  8700\n"
     ]
    },
    {
     "name": "stdout",
     "output_type": "stream",
     "text": [
      "Higher!\n",
      "You have 8 tries left\n"
     ]
    },
    {
     "name": "stdin",
     "output_type": "stream",
     "text": [
      "Guess:  8600\n"
     ]
    },
    {
     "name": "stdout",
     "output_type": "stream",
     "text": [
      "Higher!\n",
      "You have 7 tries left\n"
     ]
    },
    {
     "name": "stdin",
     "output_type": "stream",
     "text": [
      "Guess:  8800\n"
     ]
    },
    {
     "name": "stdout",
     "output_type": "stream",
     "text": [
      "Higher!\n",
      "You have 6 tries left\n"
     ]
    },
    {
     "name": "stdin",
     "output_type": "stream",
     "text": [
      "Guess:  8900\n"
     ]
    },
    {
     "name": "stdout",
     "output_type": "stream",
     "text": [
      "Lower!\n",
      "You have 5 tries left\n"
     ]
    },
    {
     "name": "stdin",
     "output_type": "stream",
     "text": [
      "Guess:  8850\n"
     ]
    },
    {
     "name": "stdout",
     "output_type": "stream",
     "text": [
      "Higher!\n",
      "You have 4 tries left\n"
     ]
    },
    {
     "name": "stdin",
     "output_type": "stream",
     "text": [
      "Guess:  8875\n"
     ]
    },
    {
     "name": "stdout",
     "output_type": "stream",
     "text": [
      "Lower!\n",
      "You have 3 tries left\n"
     ]
    },
    {
     "name": "stdin",
     "output_type": "stream",
     "text": [
      "Guess:  8863\n"
     ]
    },
    {
     "name": "stdout",
     "output_type": "stream",
     "text": [
      "Lower!\n",
      "You have 2 tries left\n"
     ]
    },
    {
     "name": "stdin",
     "output_type": "stream",
     "text": [
      "Guess:  8858\n"
     ]
    },
    {
     "name": "stdout",
     "output_type": "stream",
     "text": [
      "Lower!\n",
      "You have 1 tries left\n"
     ]
    },
    {
     "name": "stdin",
     "output_type": "stream",
     "text": [
      "Guess:  8855\n"
     ]
    },
    {
     "name": "stdout",
     "output_type": "stream",
     "text": [
      "Correct!!!\n",
      "You Win!!!\n"
     ]
    },
    {
     "name": "stdin",
     "output_type": "stream",
     "text": [
      "Guess:  \n"
     ]
    },
    {
     "ename": "ValueError",
     "evalue": "invalid literal for int() with base 10: ''",
     "output_type": "error",
     "traceback": [
      "\u001b[1;31m---------------------------------------------------------------------------\u001b[0m",
      "\u001b[1;31mValueError\u001b[0m                                Traceback (most recent call last)",
      "\u001b[1;32m<ipython-input-1-c43370538c39>\u001b[0m in \u001b[0;36m<module>\u001b[1;34m\u001b[0m\n\u001b[0;32m    103\u001b[0m \u001b[1;33m\u001b[0m\u001b[0m\n\u001b[0;32m    104\u001b[0m     \u001b[0mplayer_guess\u001b[0m\u001b[1;33m=\u001b[0m \u001b[0minput\u001b[0m\u001b[1;33m(\u001b[0m\u001b[1;34m\"Guess: \"\u001b[0m\u001b[1;33m)\u001b[0m\u001b[1;33m\u001b[0m\u001b[1;33m\u001b[0m\u001b[0m\n\u001b[1;32m--> 105\u001b[1;33m     \u001b[0minput_guess\u001b[0m\u001b[1;33m(\u001b[0m\u001b[0mplayer_guess\u001b[0m\u001b[1;33m)\u001b[0m\u001b[1;33m\u001b[0m\u001b[1;33m\u001b[0m\u001b[0m\n\u001b[0m\u001b[0;32m    106\u001b[0m \u001b[1;33m\u001b[0m\u001b[0m\n\u001b[0;32m    107\u001b[0m     \u001b[1;32mcontinue\u001b[0m\u001b[1;33m\u001b[0m\u001b[1;33m\u001b[0m\u001b[0m\n",
      "\u001b[1;32m<ipython-input-1-c43370538c39>\u001b[0m in \u001b[0;36minput_guess\u001b[1;34m(player_guess)\u001b[0m\n\u001b[0;32m     62\u001b[0m     \u001b[1;32mglobal\u001b[0m \u001b[0mmax_chances\u001b[0m\u001b[1;33m\u001b[0m\u001b[1;33m\u001b[0m\u001b[0m\n\u001b[0;32m     63\u001b[0m \u001b[1;33m\u001b[0m\u001b[0m\n\u001b[1;32m---> 64\u001b[1;33m     \u001b[0mplayer_guess\u001b[0m \u001b[1;33m=\u001b[0m \u001b[0mint\u001b[0m\u001b[1;33m(\u001b[0m\u001b[0mplayer_guess\u001b[0m\u001b[1;33m)\u001b[0m\u001b[1;33m\u001b[0m\u001b[1;33m\u001b[0m\u001b[0m\n\u001b[0m\u001b[0;32m     65\u001b[0m \u001b[1;33m\u001b[0m\u001b[0m\n\u001b[0;32m     66\u001b[0m     \u001b[1;32mif\u001b[0m \u001b[0mplayer_guess\u001b[0m \u001b[1;33m>\u001b[0m \u001b[0msecret_number\u001b[0m\u001b[1;33m:\u001b[0m\u001b[1;33m\u001b[0m\u001b[1;33m\u001b[0m\u001b[0m\n",
      "\u001b[1;31mValueError\u001b[0m: invalid literal for int() with base 10: ''"
     ]
    }
   ],
   "source": [
    "import random, math\n",
    "\n",
    "secret_number = random.randrange(0 , 100)\n",
    "lower = 0\n",
    "\n",
    "\"\"\" Define Funtions\"\"\"\n",
    "\n",
    "def difficulty():\n",
    "\n",
    "    \"\"\" Function that defines the level of the game\"\"\"\n",
    "    \n",
    "    global high\n",
    "\n",
    "    if high == 'easy':\n",
    "        \n",
    "        high = 100\n",
    "        \n",
    "    elif high == 'medium':\n",
    "        \n",
    "        high = 1000\n",
    "        \n",
    "    elif high == 'hard':\n",
    "        \n",
    "        high = 10000\n",
    "\n",
    "def tries():\n",
    "    \n",
    "    \"\"\" Function that defines the number of tries a player has\"\"\"\n",
    "    global max_chances\n",
    "    max_range = (high - lower + 1)\n",
    "    max_chances = (math.ceil(math.log(max_range, 2)))\n",
    "        \n",
    "        \n",
    "def new_game():\n",
    "    \n",
    "    global secret_number, lower, high\n",
    "    \n",
    "    print(\"======================================================\")\n",
    "    print(\"New Game:\")\n",
    "    \n",
    "    if high == 100:\n",
    "    \n",
    "        print(\"\\nDifficulty level: Easy.\")\n",
    "    \n",
    "    elif high == 1000:\n",
    "        \n",
    "        print(\"\\nDifficulty level: Medium.\")\n",
    "    \n",
    "    elif high == 10000:\n",
    "        \n",
    "        print(\"\\nDifficulty level: Hard.\")\n",
    "        \n",
    "    print(\"\\nThe game range is [%d - %d)\" %(lower, high))\n",
    "    \n",
    "    secret_number = random.randrange(lower, high)\n",
    "    \n",
    "    print(\"You have %d tries\" %(max_chances))\n",
    "    \n",
    "    \n",
    "def input_guess(player_guess):\n",
    "    \n",
    "    global max_chances\n",
    "    \n",
    "    player_guess = int(player_guess)\n",
    "    \n",
    "    if player_guess > secret_number:\n",
    "        max_chances -= 1\n",
    "        print(\"Lower!\")\n",
    "        print(\"You have %d tries left\" %(max_chances))\n",
    "    elif player_guess < secret_number:\n",
    "        max_chances -= 1\n",
    "        print(\"Higher!\")\n",
    "        print(\"You have %d tries left\" %(max_chances))\n",
    "    elif player_guess == secret_number:\n",
    "        print(\"Correct!!!\")\n",
    "        print(\"You Win!!!\")\n",
    "    pass\n",
    "    if max_chances == 0:\n",
    "        \n",
    "        print(\"\"\"You run out of tries...\n",
    "               The number was %d\"\"\" %(secret_number))\n",
    "        print(\"You lose...\")\n",
    "    pass\n",
    "        \n",
    "print(\"\"\"Welcome to guess the Number:\n",
    "         \n",
    "         Instructions:\n",
    "         \n",
    "         Player has to guess the secret number the computer chosses before it runs out of tries.\n",
    "         \n",
    "         The game comes in three difficulty levels:\n",
    "             \n",
    "             easy: guess a number between 0 and 99\n",
    "             medium: guess a number between 0 and 499\n",
    "             hard: guess a number between 0 and 999\\n\"\"\")\n",
    "\n",
    "high = input(\"choose the difficulty: \")\n",
    "difficulty()\n",
    "tries()\n",
    "new_game()\n",
    "\n",
    "while max_chances > 0 or player_guess != secret_number:\n",
    "\n",
    "    player_guess= input(\"Guess: \")\n",
    "    input_guess(player_guess)\n",
    "    \n",
    "    continue\n",
    "    \n",
    "    \n",
    "rerun = input(\"Want to play again?: [Yes/No]: \")\n",
    "\n",
    "while rerun == 'Yes':\n",
    "\n",
    "    high = input(\"Choose the difficulty: \")\n",
    "    difficulty()\n",
    "    tries()\n",
    "    new_game()\n",
    "\n",
    "    while max_chances > 0 or player_guess != secret_number:\n",
    "\n",
    "        player_guess= input(\"Guess: \")\n",
    "        input_guess(player_guess)\n",
    "\n",
    "    else:\n",
    "        print(\"Thanks for playing!!!  :)\")\n"
   ]
  },
  {
   "cell_type": "code",
   "execution_count": null,
   "metadata": {},
   "outputs": [],
   "source": []
  }
 ],
 "metadata": {
  "kernelspec": {
   "display_name": "Python 3",
   "language": "python",
   "name": "python3"
  },
  "language_info": {
   "codemirror_mode": {
    "name": "ipython",
    "version": 3
   },
   "file_extension": ".py",
   "mimetype": "text/x-python",
   "name": "python",
   "nbconvert_exporter": "python",
   "pygments_lexer": "ipython3",
   "version": "3.7.1"
  }
 },
 "nbformat": 4,
 "nbformat_minor": 4
}
