{
 "cells": [
  {
   "cell_type": "code",
   "execution_count": 1,
   "metadata": {},
   "outputs": [
    {
     "name": "stdout",
     "output_type": "stream",
     "text": [
      "['Ava', 'Emma', 'Olivia', 'Sophia']\n"
     ]
    }
   ],
   "source": [
    "def unique_names(names1, names2):\n",
    "    \n",
    "    unique = []\n",
    "    \n",
    "    names1.extend(names2)\n",
    "    \n",
    "    for name in names1:\n",
    "        \n",
    "        if name not in unique:\n",
    "            \n",
    "            unique.append(name)\n",
    "\n",
    "    return unique\n",
    "\n",
    "if __name__ == \"__main__\":\n",
    "    names1 = [\"Ava\", \"Emma\", \"Olivia\"]\n",
    "    names2 = [\"Olivia\", \"Sophia\", \"Emma\"]\n",
    "    print(unique_names(names1, names2)) # should print Ava, Emma, Olivia, Sophia"
   ]
  },
  {
   "cell_type": "code",
   "execution_count": 2,
   "metadata": {},
   "outputs": [
    {
     "name": "stdout",
     "output_type": "stream",
     "text": [
      "{'Randy': ['Input.txt', 'Output.txt'], 'Stan': ['Code.py']}\n"
     ]
    }
   ],
   "source": [
    "def group_by_owners(files):\n",
    "    \n",
    "    ownerdict = {}\n",
    "    \n",
    "    for key, value in files.items():\n",
    "        \n",
    "        if value in ownerdict:\n",
    "            \n",
    "            ownerdict[value].append(key)\n",
    "        \n",
    "        else:\n",
    "            \n",
    "            ownerdict[value] = [key]\n",
    "            \n",
    "    return ownerdict\n",
    "\n",
    "if __name__ == \"__main__\":    \n",
    "    files = {\n",
    "        'Input.txt': 'Randy',\n",
    "        'Code.py': 'Stan',\n",
    "        'Output.txt': 'Randy'\n",
    "    }   \n",
    "    print(group_by_owners(files))"
   ]
  }
 ],
 "metadata": {
  "kernelspec": {
   "display_name": "Python 3",
   "language": "python",
   "name": "python3"
  },
  "language_info": {
   "codemirror_mode": {
    "name": "ipython",
    "version": 3
   },
   "file_extension": ".py",
   "mimetype": "text/x-python",
   "name": "python",
   "nbconvert_exporter": "python",
   "pygments_lexer": "ipython3",
   "version": "3.7.1"
  }
 },
 "nbformat": 4,
 "nbformat_minor": 4
}
