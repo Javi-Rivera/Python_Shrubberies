{
 "cells": [
  {
   "cell_type": "markdown",
   "metadata": {},
   "source": [
    "# Question 1"
   ]
  },
  {
   "cell_type": "code",
   "execution_count": 9,
   "metadata": {},
   "outputs": [
    {
     "name": "stdout",
     "output_type": "stream",
     "text": [
      "Enter First Number: 5\n",
      "Enter Second Number: 2\n",
      "The Result is:  10\n"
     ]
    }
   ],
   "source": [
    "# Declare the Variables with given numbers.\n",
    "x = input('Enter First Number: ')\n",
    "y = input('Enter Second Number: ')\n",
    "# Operation of the product of two numbers. \n",
    "z = int(x)*int(y)\n",
    "# Condicionate the Result if the resulting number is Greater than 1000.\n",
    "if z > 1000:\n",
    "    z = int(x) + int(y) #If the number is greater we sum the given numbers. \n",
    "    print('Result Greater Than 1000, the sum of the numbers is: ', z) # Print the result and let the user know that given numbers profuct is greater than 1000\n",
    "else:\n",
    "    print('The Result is: ', z) # Show the result of the product of the two numbers given"
   ]
  },
  {
   "cell_type": "markdown",
   "metadata": {},
   "source": [
    "# Question 2"
   ]
  },
  {
   "cell_type": "code",
   "execution_count": 12,
   "metadata": {},
   "outputs": [
    {
     "name": "stdout",
     "output_type": "stream",
     "text": [
      "-2.25\n"
     ]
    }
   ],
   "source": [
    "-9/4\n",
    "x=int(-9)/int(4)\n",
    "print(x)"
   ]
  }
 ],
 "metadata": {
  "kernelspec": {
   "display_name": "Python 3",
   "language": "python",
   "name": "python3"
  },
  "language_info": {
   "codemirror_mode": {
    "name": "ipython",
    "version": 3
   },
   "file_extension": ".py",
   "mimetype": "text/x-python",
   "name": "python",
   "nbconvert_exporter": "python",
   "pygments_lexer": "ipython3",
   "version": "3.7.1"
  }
 },
 "nbformat": 4,
 "nbformat_minor": 4
}
