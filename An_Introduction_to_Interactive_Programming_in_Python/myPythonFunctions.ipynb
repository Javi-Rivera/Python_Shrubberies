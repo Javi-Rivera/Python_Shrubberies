{
 "cells": [
  {
   "cell_type": "markdown",
   "metadata": {},
   "source": [
    "# Part 1: myPythonFunctions.py"
   ]
  },
  {
   "cell_type": "code",
   "execution_count": 4,
   "metadata": {},
   "outputs": [],
   "source": [
    "from random import randint\n",
    "from os import remove\n",
    "from os import rename\n",
    "UserFile = 'userScores.txt'\n",
    "def getUserPoint(userName):\n",
    "    try:\n",
    "        j = open(UserFile, 'r')\n",
    "        users = {}\n",
    "        for line in j:\n",
    "            u = line.split(',')\n",
    "            Name = str(u[0])\n",
    "            Score = int(u[1])\n",
    "            users[Name] = Score\n",
    "            j.close()\n",
    "        if userName in users: \n",
    "            return(users[userName])\n",
    "        else:\n",
    "            return(-1) \n",
    "    except IOError:\n",
    "        j = open(UserFile, 'w')\n",
    "        j.close()\n",
    "        return(-1)\n",
    "    except Exception as e:\n",
    "        print(\"error\", e)\n",
    "        \n",
    "\n",
    "def updateUserPoints(newUser, userName, score):\n",
    "    \n",
    "    try:\n",
    "        if newUser == True:\n",
    "            j = open(UserFile, 'a')\n",
    "            newLine = userName + ',' + str(score) + '\\n'\n",
    "            j.write(newLine)\n",
    "            j.close()\n",
    "        else:\n",
    "            j = open(UserFile, 'r')\n",
    "            fileTemp = \"userScoresUpdated.tmp\"\n",
    "            t = open(fileTemp, 'w')\n",
    "            for line in j:\n",
    "                u = line.split(',')\n",
    "                Name = str(u[0])\n",
    "                Score = int(u[1])\n",
    "                if userName == Name:\n",
    "                    Score = Score + score\n",
    "                    newLine = userName + ',' + str(Score) + '\\n'\n",
    "                    t.write(newLine)\n",
    "                else: \n",
    "                    t.write(line)\n",
    "            t.close()\n",
    "            j.close()\n",
    "            print(j.name)\n",
    "            remove(j.name)\n",
    "            rename(fileTemp, UserFile)\n",
    "            print('a')\n",
    "    except Exception as e:\n",
    "        print('Error', e)"
   ]
  },
  {
   "cell_type": "code",
   "execution_count": 28,
   "metadata": {},
   "outputs": [
    {
     "name": "stdout",
     "output_type": "stream",
     "text": [
      "[2, 9, 1, 7, 7]\n",
      "['*', '**', '+', '-']\n"
     ]
    }
   ],
   "source": [
    "operandList = []\n",
    "operatorList = []\n",
    "operatorDict = {1:'+', 2:'-', 3:'*', 4:'**'}\n",
    "for index in range(5):\n",
    "    operandList.append(randint(1, 9))\n",
    "print(operandList)\n",
    "for index in range(4):\n",
    "    operatorList1 = operatorDict[randint(1, 4)]\n",
    "    if operatorList1 == '**' and index >= 1:\n",
    "        a = operatorList[index-1]\n",
    "        if a == '**':\n",
    "            operatorList1 = operatorDict[randint(1, 3)]\n",
    "    operatorList.append(operatorList1)\n",
    "print(operatorList)"
   ]
  },
  {
   "cell_type": "code",
   "execution_count": 29,
   "metadata": {},
   "outputs": [
    {
     "name": "stdout",
     "output_type": "stream",
     "text": [
      " 2*9**1+7-7\n",
      "18\n",
      " 2*9^1+7-7\n"
     ]
    }
   ],
   "source": [
    "questionString = ' '\n",
    "for index in range(5):\n",
    "    questionString = questionString + str(operandList[index])\n",
    "    if index != len(operandList)-1:\n",
    "        questionString = questionString + str(operatorList[index])\n",
    "print(questionString)\n",
    "result = eval(questionString)\n",
    "print(result)\n",
    "questionString = questionString.replace('**', '^')\n",
    "print(questionString)"
   ]
  },
  {
   "cell_type": "code",
   "execution_count": 41,
   "metadata": {},
   "outputs": [
    {
     "name": "stdout",
     "output_type": "stream",
     "text": [
      "Result = 2\n",
      "Try Again\n",
      "Score: -1\n",
      "Result = 5\n",
      "Try Again\n",
      "Score: -1\n",
      "Result = 18\n",
      "Good Job!\n",
      "Score: 1\n"
     ]
    }
   ],
   "source": [
    "try: \n",
    "    while True:\n",
    "        userResult1 = input('Result = ')\n",
    "        if int(userResult1) == int(result):\n",
    "            break\n",
    "        print('Try Again')\n",
    "        print('Score: -1')\n",
    "    print('Good Job!')\n",
    "    print('Score: 1')\n",
    "    \n",
    "except Exception as e:\n",
    "    print(e)"
   ]
  }
 ],
 "metadata": {
  "kernelspec": {
   "display_name": "Python 3",
   "language": "python",
   "name": "python3"
  },
  "language_info": {
   "codemirror_mode": {
    "name": "ipython",
    "version": 3
   },
   "file_extension": ".py",
   "mimetype": "text/x-python",
   "name": "python",
   "nbconvert_exporter": "python",
   "pygments_lexer": "ipython3",
   "version": "3.7.1"
  }
 },
 "nbformat": 4,
 "nbformat_minor": 4
}
